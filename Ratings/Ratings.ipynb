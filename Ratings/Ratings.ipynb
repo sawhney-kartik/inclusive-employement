{
 "cells": [
  {
   "cell_type": "code",
   "execution_count": 1,
   "metadata": {},
   "outputs": [],
   "source": [
    "# Importing packages\n",
    "from selenium import webdriver\n",
    "from bs4 import BeautifulSoup\n",
    "from time import sleep\n",
    "from selenium.webdriver.chrome.options import Options\n",
    "from random import randint\n",
    "from fake_useragent import UserAgent\n",
    "from webdriver_manager.chrome import ChromeDriverManager\n",
    "from bs4.element import Comment\n",
    "import re\n",
    "import numpy as np\n",
    "import pandas as pd"
   ]
  },
  {
   "cell_type": "code",
   "execution_count": 2,
   "metadata": {},
   "outputs": [
    {
     "name": "stdout",
     "output_type": "stream",
     "text": [
      "Mozilla/5.0 (Windows NT 6.3; rv:36.0) Gecko/20100101 Firefox/36.0\n"
     ]
    }
   ],
   "source": [
    "# Setting up driver options\n",
    "options = Options()\n",
    "options.add_argument(\"window-size=1400,600\")\n",
    "ua = UserAgent()\n",
    "a = ua.random\n",
    "user_agent = ua.random\n",
    "print(user_agent)\n",
    "options.add_argument(f'user-agent={user_agent}')\n",
    "options.add_argument('--ignore-certificate-errors')\n",
    "#options.add_argument(\"start-maximized\")\n",
    "#options.add_argument('--incognito')\n",
    "options.add_argument('--headless')"
   ]
  },
  {
   "cell_type": "markdown",
   "metadata": {},
   "source": [
    "## Valuable 500"
   ]
  },
  {
   "cell_type": "code",
   "execution_count": 3,
   "metadata": {},
   "outputs": [
    {
     "name": "stderr",
     "output_type": "stream",
     "text": [
      "[WDM] - ====== WebDriver manager ======\n",
      "[WDM] - Current google-chrome version is 90.0.4430\n",
      "[WDM] - Get LATEST driver version for 90.0.4430\n"
     ]
    },
    {
     "name": "stdout",
     "output_type": "stream",
     "text": [
      "\n",
      "\n"
     ]
    },
    {
     "name": "stderr",
     "output_type": "stream",
     "text": [
      "[WDM] - Get LATEST driver version for 90.0.4430\n",
      "[WDM] - Trying to download new driver from https://chromedriver.storage.googleapis.com/90.0.4430.24/chromedriver_win32.zip\n",
      "[WDM] - Driver has been saved in cache [C:\\Users\\sbsha\\.wdm\\drivers\\chromedriver\\win32\\90.0.4430.24]\n"
     ]
    }
   ],
   "source": [
    "# Extracting from Valuable 500\n",
    "driver = webdriver.Chrome(ChromeDriverManager().install(), options=options)\n",
    "driver.get('https://www.thevaluable500.com/the-valuable-500/')\n",
    "content = driver.page_source\n",
    "soup = BeautifulSoup(content, 'html.parser')"
   ]
  },
  {
   "cell_type": "code",
   "execution_count": 4,
   "metadata": {},
   "outputs": [
    {
     "name": "stdout",
     "output_type": "stream",
     "text": [
      "Close company detailsCiscoValuable Leader:Chuck RobbinsRegion:GlobalCisco’s Valuable 500 Commitment:Commitment to be submitted.\n"
     ]
    }
   ],
   "source": [
    "# Getting Valuable 500 info for Cisco\n",
    "print(soup.find('div', {'id':'element-cisco'}).get_text(strip=True))"
   ]
  },
  {
   "cell_type": "markdown",
   "metadata": {},
   "source": [
    "## DisabilityIN"
   ]
  },
  {
   "cell_type": "code",
   "execution_count": 5,
   "metadata": {},
   "outputs": [
    {
     "name": "stderr",
     "output_type": "stream",
     "text": [
      "[WDM] - ====== WebDriver manager ======\n",
      "[WDM] - Current google-chrome version is 90.0.4430\n",
      "[WDM] - Get LATEST driver version for 90.0.4430\n",
      "[WDM] - Driver [C:\\Users\\sbsha\\.wdm\\drivers\\chromedriver\\win32\\90.0.4430.24\\chromedriver.exe] found in cache\n"
     ]
    },
    {
     "name": "stdout",
     "output_type": "stream",
     "text": [
      "\n",
      "\n"
     ]
    }
   ],
   "source": [
    "# Extracting from DisabilityIN\n",
    "driver = webdriver.Chrome(ChromeDriverManager().install(), options=options)\n",
    "driver.get('https://disabilityin.org/what-we-do/disability-equality-index/2020companies/')\n",
    "content = driver.page_source\n",
    "soup = BeautifulSoup(content, 'html.parser')"
   ]
  },
  {
   "cell_type": "code",
   "execution_count": 14,
   "metadata": {},
   "outputs": [
    {
     "name": "stdout",
     "output_type": "stream",
     "text": [
      "Companies that scored 100%\n",
      "3M\n",
      "Accenture\n",
      "Adobe\n",
      "Allstate\n",
      "Ameren Corporation\n",
      "American Airlines\n",
      "American Electric Power, Inc.\n",
      "American Water\n",
      "Aramark\n",
      "AT&T\n",
      "BAE Systems\n",
      "Bank of America\n",
      "Best Buy Co., Inc.\n",
      "Biogen\n",
      "BCBS Massachusetts\n",
      "Blue Cross Blue Shield of Michigan\n",
      "BCBS RI\n",
      "Blue Shield of California\n",
      "BMO Harris Bank\n",
      "BNY Mellon\n",
      "Boehringer Ingelheim Pharmaceuticals, Inc.\n",
      "Booz Allen Hamilton\n",
      "Boston Scientific  with tagline: \"Advancing Science For Life\"\n",
      "Bristol Myers Squibb\n",
      "Capital One Financial Corporation\n",
      "Caterpillar\n",
      "Centene Corporation\n",
      "Century Link .\n",
      "Chevron: The human energy company\n",
      "Children's Hospital of Philadelphia\n",
      "Choice Hotels\n",
      "Cigna\n",
      "Cisco\n",
      "Comcast NBC Universal\n",
      "Compass Group\n",
      "Corning\n",
      "CVS Health\n",
      "Dell Technologies\n",
      "Deloitte\n",
      "Delta Air Lines, Inc.\n",
      "Dominion Energy\n",
      "Dow Inc.\n",
      "Dupont\n",
      "DXC Technology\n",
      "Edison International\n",
      "Eli Lilly\n",
      "Equitable\n",
      "EY\n",
      "Facebook\n",
      "Fidelity Investments\n",
      "Florida Blue\n",
      "Freddie Mac\n",
      "Froedtert\n",
      "General Motors\n",
      "GlaxoSmithKline  with tagline \"Do more feel better live longer\"\n",
      "Google LLC\n",
      "Grant Thornton LLP\n",
      "Health Care Service Corporation\n",
      "Hewlett Packard Enterprise\n",
      "Highmark Health\n",
      "HP Inc.\n",
      "Humana\n",
      "Huntington Bank\n",
      "IFF\n",
      "Intel\n",
      "Johnson & Johnson\n",
      "JPMorgan Chase & Co.\n",
      "KPMG LLP\n",
      "L'Oreal USA\n",
      "Land O’Lakes, Inc.\n",
      "Lincoln Financial Group\n",
      "LinkedIn\n",
      "Lockheed Martin\n",
      "Lowe’s Companies, Inc.\n",
      "Lumen\n",
      "M&T Bank\n",
      "ManpowerGroup\n",
      "Marriott International\n",
      "MassMutual\n",
      "Mastercard\n",
      "Mathematica\n",
      "Mayo Clinic\n",
      "McKesson\n",
      "Medtronic plc\n",
      "Merck . Inventing for life.\n",
      "MetLife Inc.\n",
      "Microsoft\n",
      "Motorola Solutions\n",
      "Northern Trust\n",
      "Northrop Grumman\n",
      "Northwestern Mutual\n",
      "Old National Bank  with tagline, Your Bank For Life\n",
      "Oracle\n",
      "Pacific Gas and Electric Company (PG&E)\n",
      "Pfizer\n",
      "PNC Financial Services Group, Inc.\n",
      "PPL\n",
      "Principal\n",
      "Prudential\n",
      "PwC\n",
      "Qualcomm\n",
      "Randstad\n",
      "Raytheon Company\n",
      "Reed Smith\n",
      "Royal Caribbean Cruises Ltd.\n",
      "S&P Global\n",
      "Salesforce\n",
      "SAP\n",
      "Siemens\n",
      "Sodexo Inc.\n",
      "Sony\n",
      "Southern Company\n",
      "Southwest Airlines Company\n",
      "Spaulding Rehabilitation Network\n",
      "State Street Corporation\n",
      "Synchrony Financial\n",
      "T-Mobile\n",
      "TD Bank N.A.\n",
      "The Boeing Company\n",
      "The Hartford Financial Services Group, Inc.\n",
      "The Travelers Companies, Inc.\n",
      "The Walt Disney Company\n",
      "for Thermo Fisher Scientific\n",
      "Tracfone\n",
      "Tufts Health Plan\n",
      "U.S. Bank\n",
      "U.S. Cellular\n",
      "UKG  with tagline \"Our purpose is people\"\n",
      "United Airlines\n",
      "UnitedHealth Group\n",
      "Unum\n",
      "UPS\n",
      "USAA\n",
      "Verizon\n",
      "Visa\n",
      "Voya Financial\n",
      "Walgreens\n",
      "Walmart\n",
      "ZVRS/Purple Communications\n"
     ]
    }
   ],
   "source": [
    "# Companies with 100% score\n",
    "print(soup.find('div', {'class':'fusion-layout-column fusion_builder_column fusion-builder-column-4 fusion_builder_column_1_1 1_1 fusion-one-full fusion-column-first fusion-column-last'}).find('h2', {'class':'title-heading-center'}).get_text(strip=True))\n",
    "for a in soup.find('div', {'class':'fusion-layout-column fusion_builder_column fusion-builder-column-4 fusion_builder_column_1_1 1_1 fusion-one-full fusion-column-first fusion-column-last'}).findAll('img'):\n",
    "    if 'logo' in a['alt']:\n",
    "        print(a['alt'].replace('logo', '').strip())\n",
    "    elif 'Logo' in a['alt']:\n",
    "        print(a['alt'].replace('Logo', '').strip())\n",
    "    else:\n",
    "        print(a['alt'])"
   ]
  },
  {
   "cell_type": "code",
   "execution_count": 13,
   "metadata": {},
   "outputs": [
    {
     "name": "stdout",
     "output_type": "stream",
     "text": [
      "Companies that scored 90%\n",
      "Ally Financial Inc.\n",
      "Amazon\n",
      "AMC\n",
      "Ameriprise Financial\n",
      "Anthem\n",
      "Astellas\n",
      "Barclays\n",
      "Baxter\n",
      "Bayer\n",
      "Baylor Scott & White Health\n",
      "BD (Becton, Dickinson and Company)\n",
      "Cargill, Inc.\n",
      "Charles Schwab\n",
      "Cintas\n",
      "Citrix .\n",
      "Colgate\n",
      "CSX Transportation, Inc.\n",
      "DTE\n",
      "Dun & Bradstreet\n",
      "Epstein Becker Green\n",
      "Fannie Mae\n",
      "Fifth Third Bank\n",
      "FINRA\n",
      "Fiserv\n",
      "Fox Corporation\n",
      "Franklin Templeton\n",
      "general dynamics\n",
      "W.W. Grainger, Inc.\n",
      "Indeed\n",
      "Iron mountain\n",
      "Jacobs\n",
      "JLL\n",
      "Meijer\n",
      "Nielsen\n",
      "Pearson\n",
      "Quest Diagnostics\n",
      "Sanofi\n",
      "Steptoe & Johnson LLP\n",
      "The Coca Cola Company\n",
      "Kroger, fresh for everyone\n",
      "MITRE\n",
      "UT MD Anderson Cancer Center\n",
      "Viasat\n",
      "Whirlpool Corporation\n",
      "Xcel Energy\n"
     ]
    }
   ],
   "source": [
    "# Companies with 90% score\n",
    "print(soup.find('div', {'class':'fusion-layout-column fusion_builder_column fusion-builder-column-5 fusion_builder_column_1_1 1_1 fusion-one-full fusion-column-first fusion-column-last'}).find('h2', {'class':'title-heading-center'}).get_text(strip=True))\n",
    "for a in soup.find('div', {'class':'fusion-layout-column fusion_builder_column fusion-builder-column-5 fusion_builder_column_1_1 1_1 fusion-one-full fusion-column-first fusion-column-last'}).findAll('img'):\n",
    "    if 'logo' in a['alt']:\n",
    "        print(a['alt'].replace('logo', '').strip())\n",
    "    elif 'Logo' in a['alt']:\n",
    "        print(a['alt'].replace('Logo', '').strip())\n",
    "    else:\n",
    "        print(a['alt'])"
   ]
  },
  {
   "cell_type": "code",
   "execution_count": 12,
   "metadata": {},
   "outputs": [
    {
     "name": "stdout",
     "output_type": "stream",
     "text": [
      "Companies that scored 80%\n",
      "Argonne National Laboratory\n",
      "Brown Brothers Harriman\n",
      "BT Americas\n",
      "Consumers Energy\n",
      "COX\n",
      "Cummins\n",
      "CUNA Mutual Group\n",
      "Empower Retirement\n",
      "Ford Motor Company\n",
      "GDIT\n",
      "Leidos\n",
      "Norfolk Southern Corporation  with tagline one line, infinite possibilities\n",
      "Novant Health\n",
      "PepsiCo Logo also featuring commercial brand s for Pepsi, Lays, Tropicana, Quaker & Gatorade.\n",
      "RRD\n",
      "Rush University Medical Center\n",
      "Target\n",
      "TEKsystems\n",
      "Uber Technologies Inc.\n",
      "Unisys\n",
      "United Technologies\n"
     ]
    }
   ],
   "source": [
    "# Companies with 80% score\n",
    "print(soup.find('div', {'class':'fusion-layout-column fusion_builder_column fusion-builder-column-6 fusion_builder_column_1_1 1_1 fusion-one-full fusion-column-first fusion-column-last'}).find('h2', {'class':'title-heading-center'}).get_text(strip=True))\n",
    "for a in soup.find('div', {'class':'fusion-layout-column fusion_builder_column fusion-builder-column-6 fusion_builder_column_1_1 1_1 fusion-one-full fusion-column-first fusion-column-last'}).findAll('img'):\n",
    "    if 'logo' in a['alt']:\n",
    "        print(a['alt'].replace('logo', '').strip())\n",
    "    elif 'Logo' in a['alt']:\n",
    "        print(a['alt'].replace('Logo', '').strip())\n",
    "    else:\n",
    "        print(a['alt'])"
   ]
  }
 ],
 "metadata": {
  "kernelspec": {
   "display_name": "Python 3",
   "language": "python",
   "name": "python3"
  },
  "language_info": {
   "codemirror_mode": {
    "name": "ipython",
    "version": 3
   },
   "file_extension": ".py",
   "mimetype": "text/x-python",
   "name": "python",
   "nbconvert_exporter": "python",
   "pygments_lexer": "ipython3",
   "version": "3.8.10"
  }
 },
 "nbformat": 4,
 "nbformat_minor": 4
}
