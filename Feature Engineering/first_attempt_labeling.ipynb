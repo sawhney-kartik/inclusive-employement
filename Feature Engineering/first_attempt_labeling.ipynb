{
 "cells": [
  {
   "cell_type": "code",
   "execution_count": 42,
   "metadata": {},
   "outputs": [],
   "source": [
    "import pandas as pd\n",
    "import numpy as np"
   ]
  },
  {
   "cell_type": "code",
   "execution_count": 43,
   "metadata": {},
   "outputs": [],
   "source": [
    "df = pd.read_csv('Train.csv')"
   ]
  },
  {
   "cell_type": "code",
   "execution_count": 44,
   "metadata": {},
   "outputs": [],
   "source": [
    "df['Try Relevant'] = -10"
   ]
  },
  {
   "cell_type": "code",
   "execution_count": 45,
   "metadata": {},
   "outputs": [
    {
     "data": {
      "text/html": [
       "<div>\n",
       "<style scoped>\n",
       "    .dataframe tbody tr th:only-of-type {\n",
       "        vertical-align: middle;\n",
       "    }\n",
       "\n",
       "    .dataframe tbody tr th {\n",
       "        vertical-align: top;\n",
       "    }\n",
       "\n",
       "    .dataframe thead th {\n",
       "        text-align: right;\n",
       "    }\n",
       "</style>\n",
       "<table border=\"1\" class=\"dataframe\">\n",
       "  <thead>\n",
       "    <tr style=\"text-align: right;\">\n",
       "      <th></th>\n",
       "      <th>Link</th>\n",
       "      <th>Company</th>\n",
       "      <th>Page Name</th>\n",
       "      <th>Snippet</th>\n",
       "      <th>Query</th>\n",
       "      <th>Text</th>\n",
       "      <th>Relevant</th>\n",
       "      <th>Try Relevant</th>\n",
       "    </tr>\n",
       "  </thead>\n",
       "  <tbody>\n",
       "    <tr>\n",
       "      <th>0</th>\n",
       "      <td>https://www.cisco.com/c/en/us/about/legal/priv...</td>\n",
       "      <td>Cisco</td>\n",
       "      <td>Cisco Online Privacy Statement - Cisco</td>\n",
       "      <td>In addition, California residents may submit a...</td>\n",
       "      <td>accessibility statement Cisco</td>\n",
       "      <td>We may share your personal information with th...</td>\n",
       "      <td>0.0</td>\n",
       "      <td>-10</td>\n",
       "    </tr>\n",
       "    <tr>\n",
       "      <th>1</th>\n",
       "      <td>https://www.microsoft.com/investor/reports/ar1...</td>\n",
       "      <td>Microsoft</td>\n",
       "      <td>Microsoft 2019 Annual Report</td>\n",
       "      <td>$100 invested on 6/30/14 in stock or index, in...</td>\n",
       "      <td>accommodation statement Microsoft</td>\n",
       "      <td>Satya NadellaChief Executive OfficerOctober 16...</td>\n",
       "      <td>0.0</td>\n",
       "      <td>-10</td>\n",
       "    </tr>\n",
       "    <tr>\n",
       "      <th>2</th>\n",
       "      <td>https://community.cisco.com/t5/other-network-a...</td>\n",
       "      <td>Cisco</td>\n",
       "      <td>Solved: How to recover from an \"err-disabled\" ...</td>\n",
       "      <td>GigabitEthernet0/4 is down, line protocol is d...</td>\n",
       "      <td>disabled employees at Cisco</td>\n",
       "      <td>These cookies may be set through our site by o...</td>\n",
       "      <td>0.0</td>\n",
       "      <td>-10</td>\n",
       "    </tr>\n",
       "    <tr>\n",
       "      <th>3</th>\n",
       "      <td>https://docs.microsoft.com/en-us/powerapps/tea...</td>\n",
       "      <td>Microsoft</td>\n",
       "      <td>Use Employee Ideas app from teams store - Powe...</td>\n",
       "      <td>(Optional) Select Post to channel. (Optional) ...</td>\n",
       "      <td>employee accessibility stories Microsoft</td>\n",
       "      <td>The Employee ideas app configuration is only r...</td>\n",
       "      <td>0.0</td>\n",
       "      <td>-10</td>\n",
       "    </tr>\n",
       "    <tr>\n",
       "      <th>4</th>\n",
       "      <td>https://docs.microsoft.com/en-us/windows/confi...</td>\n",
       "      <td>Microsoft</td>\n",
       "      <td>Configure access to Microsoft Store (Windows 1...</td>\n",
       "      <td>Block Microsoft Store on Windows 10 Mobile. Ap...</td>\n",
       "      <td>disabled employees at Microsoft</td>\n",
       "      <td>Right-clickOnly display the private store with...</td>\n",
       "      <td>0.0</td>\n",
       "      <td>-10</td>\n",
       "    </tr>\n",
       "    <tr>\n",
       "      <th>...</th>\n",
       "      <td>...</td>\n",
       "      <td>...</td>\n",
       "      <td>...</td>\n",
       "      <td>...</td>\n",
       "      <td>...</td>\n",
       "      <td>...</td>\n",
       "      <td>...</td>\n",
       "      <td>...</td>\n",
       "    </tr>\n",
       "    <tr>\n",
       "      <th>6534</th>\n",
       "      <td>https://powerusers.microsoft.com/t5/General-Po...</td>\n",
       "      <td>Microsoft</td>\n",
       "      <td>Solved: Flows owned by former employees - Powe...</td>\n",
       "      <td>10-08-2018 07:26 AM. @v-micsh-msft wrote: Hi @...</td>\n",
       "      <td>disabled employees at Microsoft</td>\n",
       "      <td>1. What happens to flows when their creator le...</td>\n",
       "      <td>NaN</td>\n",
       "      <td>-10</td>\n",
       "    </tr>\n",
       "    <tr>\n",
       "      <th>6535</th>\n",
       "      <td>https://content.cisco.com/chapter.sjs?uri=/sea...</td>\n",
       "      <td>Cisco</td>\n",
       "      <td>Cisco Content Hub - capwap Commands</td>\n",
       "      <td>cisco-wave2-ap # capwap ap primary-base wlc-55...</td>\n",
       "      <td>accessibility statement Cisco</td>\n",
       "      <td>Your contact details will be kept confidential...</td>\n",
       "      <td>NaN</td>\n",
       "      <td>-10</td>\n",
       "    </tr>\n",
       "    <tr>\n",
       "      <th>6536</th>\n",
       "      <td>https://www.cisco.com/c/en/us/about/accessibil...</td>\n",
       "      <td>Cisco</td>\n",
       "      <td>Products - Cisco</td>\n",
       "      <td>Cisco Unified IP Phones provide many easy-to-u...</td>\n",
       "      <td>accessibility statement Cisco</td>\n",
       "      <td>These cookies allow us to count visits and tra...</td>\n",
       "      <td>NaN</td>\n",
       "      <td>-10</td>\n",
       "    </tr>\n",
       "    <tr>\n",
       "      <th>6537</th>\n",
       "      <td>https://www.cisco.com/c/en/us/td/docs/ios-xml/...</td>\n",
       "      <td>Cisco</td>\n",
       "      <td>Security Configuration Guide: Access Control L...</td>\n",
       "      <td>An access list is a sequential list consisting...</td>\n",
       "      <td>accessibility statement Cisco</td>\n",
       "      <td>Sequence numbers are not nvgened. That is, the...</td>\n",
       "      <td>NaN</td>\n",
       "      <td>-10</td>\n",
       "    </tr>\n",
       "    <tr>\n",
       "      <th>6538</th>\n",
       "      <td>https://www.cisco.com/c/en/us/td/docs/voice_ip...</td>\n",
       "      <td>Cisco</td>\n",
       "      <td>Accessibility Features for the Cisco IP Phone ...</td>\n",
       "      <td>The Cisco IP Phone 8800 Series provide accessi...</td>\n",
       "      <td>accessibility statement Cisco</td>\n",
       "      <td>Headset Speakerphone Mute</td>\n",
       "      <td>NaN</td>\n",
       "      <td>-10</td>\n",
       "    </tr>\n",
       "  </tbody>\n",
       "</table>\n",
       "<p>6539 rows × 8 columns</p>\n",
       "</div>"
      ],
      "text/plain": [
       "                                                   Link    Company  \\\n",
       "0     https://www.cisco.com/c/en/us/about/legal/priv...      Cisco   \n",
       "1     https://www.microsoft.com/investor/reports/ar1...  Microsoft   \n",
       "2     https://community.cisco.com/t5/other-network-a...      Cisco   \n",
       "3     https://docs.microsoft.com/en-us/powerapps/tea...  Microsoft   \n",
       "4     https://docs.microsoft.com/en-us/windows/confi...  Microsoft   \n",
       "...                                                 ...        ...   \n",
       "6534  https://powerusers.microsoft.com/t5/General-Po...  Microsoft   \n",
       "6535  https://content.cisco.com/chapter.sjs?uri=/sea...      Cisco   \n",
       "6536  https://www.cisco.com/c/en/us/about/accessibil...      Cisco   \n",
       "6537  https://www.cisco.com/c/en/us/td/docs/ios-xml/...      Cisco   \n",
       "6538  https://www.cisco.com/c/en/us/td/docs/voice_ip...      Cisco   \n",
       "\n",
       "                                              Page Name  \\\n",
       "0                Cisco Online Privacy Statement - Cisco   \n",
       "1                          Microsoft 2019 Annual Report   \n",
       "2     Solved: How to recover from an \"err-disabled\" ...   \n",
       "3     Use Employee Ideas app from teams store - Powe...   \n",
       "4     Configure access to Microsoft Store (Windows 1...   \n",
       "...                                                 ...   \n",
       "6534  Solved: Flows owned by former employees - Powe...   \n",
       "6535                Cisco Content Hub - capwap Commands   \n",
       "6536                                   Products - Cisco   \n",
       "6537  Security Configuration Guide: Access Control L...   \n",
       "6538  Accessibility Features for the Cisco IP Phone ...   \n",
       "\n",
       "                                                Snippet  \\\n",
       "0     In addition, California residents may submit a...   \n",
       "1     $100 invested on 6/30/14 in stock or index, in...   \n",
       "2     GigabitEthernet0/4 is down, line protocol is d...   \n",
       "3     (Optional) Select Post to channel. (Optional) ...   \n",
       "4     Block Microsoft Store on Windows 10 Mobile. Ap...   \n",
       "...                                                 ...   \n",
       "6534  10-08-2018 07:26 AM. @v-micsh-msft wrote: Hi @...   \n",
       "6535  cisco-wave2-ap # capwap ap primary-base wlc-55...   \n",
       "6536  Cisco Unified IP Phones provide many easy-to-u...   \n",
       "6537  An access list is a sequential list consisting...   \n",
       "6538  The Cisco IP Phone 8800 Series provide accessi...   \n",
       "\n",
       "                                         Query  \\\n",
       "0                accessibility statement Cisco   \n",
       "1            accommodation statement Microsoft   \n",
       "2                  disabled employees at Cisco   \n",
       "3     employee accessibility stories Microsoft   \n",
       "4              disabled employees at Microsoft   \n",
       "...                                        ...   \n",
       "6534           disabled employees at Microsoft   \n",
       "6535             accessibility statement Cisco   \n",
       "6536             accessibility statement Cisco   \n",
       "6537             accessibility statement Cisco   \n",
       "6538             accessibility statement Cisco   \n",
       "\n",
       "                                                   Text  Relevant  \\\n",
       "0     We may share your personal information with th...       0.0   \n",
       "1     Satya NadellaChief Executive OfficerOctober 16...       0.0   \n",
       "2     These cookies may be set through our site by o...       0.0   \n",
       "3     The Employee ideas app configuration is only r...       0.0   \n",
       "4     Right-clickOnly display the private store with...       0.0   \n",
       "...                                                 ...       ...   \n",
       "6534  1. What happens to flows when their creator le...       NaN   \n",
       "6535  Your contact details will be kept confidential...       NaN   \n",
       "6536  These cookies allow us to count visits and tra...       NaN   \n",
       "6537  Sequence numbers are not nvgened. That is, the...       NaN   \n",
       "6538                          Headset Speakerphone Mute       NaN   \n",
       "\n",
       "      Try Relevant  \n",
       "0              -10  \n",
       "1              -10  \n",
       "2              -10  \n",
       "3              -10  \n",
       "4              -10  \n",
       "...            ...  \n",
       "6534           -10  \n",
       "6535           -10  \n",
       "6536           -10  \n",
       "6537           -10  \n",
       "6538           -10  \n",
       "\n",
       "[6539 rows x 8 columns]"
      ]
     },
     "execution_count": 45,
     "metadata": {},
     "output_type": "execute_result"
    }
   ],
   "source": [
    "df"
   ]
  },
  {
   "cell_type": "code",
   "execution_count": 46,
   "metadata": {},
   "outputs": [],
   "source": [
    "for i in range(len(df)):\n",
    "    if 'accessibility' in df.loc[i, 'Text']:\n",
    "        df.loc[i, 'Try Relevant'] = 1"
   ]
  },
  {
   "cell_type": "code",
   "execution_count": 47,
   "metadata": {},
   "outputs": [],
   "source": [
    "for i in range(len(df)):\n",
    "    if 'Accessibility' in df.loc[i, 'Text']:\n",
    "        df.loc[i, 'Try Relevant'] = 1"
   ]
  },
  {
   "cell_type": "code",
   "execution_count": 48,
   "metadata": {},
   "outputs": [],
   "source": [
    "for i in range(len(df)):\n",
    "    if 'erg' in df.loc[i, 'Text']:\n",
    "        df.loc[i, 'Try Relevant'] = 1"
   ]
  },
  {
   "cell_type": "code",
   "execution_count": 49,
   "metadata": {},
   "outputs": [],
   "source": [
    "for i in range(len(df)):\n",
    "    if 'ERG' in df.loc[i, 'Text']:\n",
    "        df.loc[i, 'Try Relevant'] = 1"
   ]
  },
  {
   "cell_type": "code",
   "execution_count": 50,
   "metadata": {},
   "outputs": [],
   "source": [
    "for i in range(len(df)):\n",
    "    if 'disability' in df.loc[i, 'Text']:\n",
    "        df.loc[i, 'Try Relevant'] = 1"
   ]
  },
  {
   "cell_type": "code",
   "execution_count": 51,
   "metadata": {},
   "outputs": [],
   "source": [
    "for i in range(len(df)):\n",
    "    if 'Disability' in df.loc[i, 'Text']:\n",
    "        df.loc[i, 'Try Relevant'] = 1"
   ]
  },
  {
   "cell_type": "code",
   "execution_count": 52,
   "metadata": {},
   "outputs": [],
   "source": [
    "for i in range(len(df)):\n",
    "    if 'employee resource group' in df.loc[i, 'Text']:\n",
    "        df.loc[i, 'Try Relevant'] = 1"
   ]
  },
  {
   "cell_type": "code",
   "execution_count": 53,
   "metadata": {},
   "outputs": [],
   "source": [
    "for i in range(len(df)):\n",
    "    if 'inclusion' in df.loc[i, 'Text']:\n",
    "        df.loc[i, 'Try Relevant'] = 1"
   ]
  },
  {
   "cell_type": "code",
   "execution_count": 54,
   "metadata": {},
   "outputs": [],
   "source": [
    "for i in range(len(df)):\n",
    "    if 'Inclusion' in df.loc[i, 'Text']:\n",
    "        df.loc[i, 'Try Relevant'] = 1"
   ]
  },
  {
   "cell_type": "code",
   "execution_count": 55,
   "metadata": {},
   "outputs": [],
   "source": [
    "for i in range(len(df)):\n",
    "    if 'disabled employee' in df.loc[i, 'Text']:\n",
    "        df.loc[i, 'Try Relevant'] = 1"
   ]
  },
  {
   "cell_type": "code",
   "execution_count": 56,
   "metadata": {},
   "outputs": [
    {
     "data": {
      "text/plain": [
       "-10    6161\n",
       " 1      378\n",
       "Name: Try Relevant, dtype: int64"
      ]
     },
     "execution_count": 56,
     "metadata": {},
     "output_type": "execute_result"
    }
   ],
   "source": [
    "df['Try Relevant'].value_counts()"
   ]
  },
  {
   "cell_type": "code",
   "execution_count": 57,
   "metadata": {},
   "outputs": [
    {
     "data": {
      "text/plain": [
       "6       Captioning. Certain Skype features include acc...\n",
       "28       Microsoft maintains a work environment free f...\n",
       "47      Cisco IP Communications solutions also support...\n",
       "54      Barbara Whye is vice president of Human Resour...\n",
       "63      Start your accessibility journey today by lear...\n",
       "                              ...                        \n",
       "6403     “The culmination of emerging technologies, th...\n",
       "6413    Harriet Tubman was already risking her life to...\n",
       "6505     BAM, the employee resource group for Black an...\n",
       "6512    “The feedback loop she's created is real and s...\n",
       "6520    Barbara Whye is Chief Diversity and Inclusion ...\n",
       "Name: Text, Length: 378, dtype: object"
      ]
     },
     "execution_count": 57,
     "metadata": {},
     "output_type": "execute_result"
    }
   ],
   "source": [
    "df[df['Try Relevant'] == 1]['Text']"
   ]
  },
  {
   "cell_type": "code",
   "execution_count": null,
   "metadata": {},
   "outputs": [],
   "source": []
  }
 ],
 "metadata": {
  "kernelspec": {
   "display_name": "Python 3",
   "language": "python",
   "name": "python3"
  },
  "language_info": {
   "codemirror_mode": {
    "name": "ipython",
    "version": 3
   },
   "file_extension": ".py",
   "mimetype": "text/x-python",
   "name": "python",
   "nbconvert_exporter": "python",
   "pygments_lexer": "ipython3",
   "version": "3.8.3"
  }
 },
 "nbformat": 4,
 "nbformat_minor": 4
}
