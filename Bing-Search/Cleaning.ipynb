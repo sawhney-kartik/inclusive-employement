{
 "cells": [
  {
   "cell_type": "code",
   "execution_count": 3,
   "metadata": {},
   "outputs": [],
   "source": [
    "import pandas as pd\n",
    "import numpy as np\n",
    "import tldextract"
   ]
  },
  {
   "cell_type": "code",
   "execution_count": 4,
   "metadata": {},
   "outputs": [],
   "source": [
    "old_df = pd.read_csv('output.csv', index_col=0)\n",
    "new_df = pd.read_csv('output_second_python_search.csv', index_col=0)"
   ]
  },
  {
   "cell_type": "code",
   "execution_count": 5,
   "metadata": {},
   "outputs": [],
   "source": [
    "old_df['Domain Name'] = old_df['URL'].apply(lambda x: tldextract.extract(x).domain)\n",
    "new_df['Domain Name'] = new_df['URL'].apply(lambda x: tldextract.extract(x).domain)"
   ]
  },
  {
   "cell_type": "code",
   "execution_count": 6,
   "metadata": {},
   "outputs": [],
   "source": [
    "old_final_indexes = []\n",
    "for i in range(len(old_df)):\n",
    "    if str(old_df['Company Name'][i]).lower() == str(old_df['Domain Name'][i]).lower():\n",
    "        old_final_indexes.append(i)\n",
    "        \n",
    "new_final_indexes = []\n",
    "for i in range(len(new_df)):\n",
    "    if str(new_df['Company Name'][i]).lower() == str(new_df['Domain Name'][i]).lower():\n",
    "        new_final_indexes.append(i)"
   ]
  },
  {
   "cell_type": "code",
   "execution_count": 7,
   "metadata": {},
   "outputs": [],
   "source": [
    "old_df = old_df.iloc[old_final_indexes, :].drop_duplicates(subset=['URL']).reset_index().drop(columns='index')\n",
    "new_df = new_df.iloc[new_final_indexes, :].drop_duplicates(subset=['URL']).reset_index().drop(columns='index')"
   ]
  },
  {
   "cell_type": "code",
   "execution_count": 16,
   "metadata": {},
   "outputs": [],
   "source": [
    "old_URL_list = list(old_df['URL'])"
   ]
  },
  {
   "cell_type": "code",
   "execution_count": 31,
   "metadata": {},
   "outputs": [],
   "source": [
    "new_URL_indexes = []\n",
    "for i in range(len(new_df)):\n",
    "    if new_df.loc[i, 'URL'] not in old_URL_list:\n",
    "        new_URL_indexes.append(i)"
   ]
  },
  {
   "cell_type": "code",
   "execution_count": 33,
   "metadata": {},
   "outputs": [],
   "source": [
    "new_final_df = new_df.iloc[new_URL_indexes, :]"
   ]
  },
  {
   "cell_type": "code",
   "execution_count": 34,
   "metadata": {},
   "outputs": [],
   "source": [
    "new_final_df.to_csv('output_with_news.csv')"
   ]
  },
  {
   "cell_type": "code",
   "execution_count": null,
   "metadata": {},
   "outputs": [],
   "source": [
    "df.to_csv('output_with_tldextract.csv')"
   ]
  }
 ],
 "metadata": {
  "kernelspec": {
   "display_name": "Python 3",
   "language": "python",
   "name": "python3"
  },
  "language_info": {
   "codemirror_mode": {
    "name": "ipython",
    "version": 3
   },
   "file_extension": ".py",
   "mimetype": "text/x-python",
   "name": "python",
   "nbconvert_exporter": "python",
   "pygments_lexer": "ipython3",
   "version": "3.8.3"
  }
 },
 "nbformat": 4,
 "nbformat_minor": 4
}
